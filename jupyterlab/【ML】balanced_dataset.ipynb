{
 "cells": [
  {
   "cell_type": "markdown",
   "id": "5c8f1d1e-cbbb-4abe-abbe-a38cb802cb82",
   "metadata": {},
   "source": [
    "### 复制非垃圾邮件"
   ]
  },
  {
   "cell_type": "code",
   "execution_count": 2,
   "id": "a0bcecdf-7b85-4af3-bc44-3d38770fdeab",
   "metadata": {},
   "outputs": [
    {
     "name": "stdout",
     "output_type": "stream",
     "text": [
      "非垃圾邮件复制完成。\n"
     ]
    }
   ],
   "source": [
    "import shutil\n",
    "import os\n",
    "# 设置索引文件和目标文件夹的路径\n",
    "index_file_path = 'trec07p/full/index'\n",
    "destination_folder = 'ham/'\n",
    "# 确保目标文件夹存在\n",
    "if not os.path.exists(destination_folder):\n",
    "    os.makedirs(destination_folder)\n",
    "\n",
    "# 打开索引文件并读取内容\n",
    "with open(index_file_path, 'r') as file:\n",
    "    for line in file:\n",
    "        # 分割每行为标签和文件路径\n",
    "        label, file_path = line.strip().split(' ')\n",
    "        # 检查邮件是否为非垃圾邮件\n",
    "        if label.lower() == 'ham':\n",
    "            file_path = file_path.replace('../', '')\n",
    "            # 构建完整的源文件路径和目标文件路径\n",
    "            src_path = os.path.join('trec07p', file_path)\n",
    "            dst_path = os.path.join(destination_folder, os.path.basename(file_path))\n",
    "            # 复制文件\n",
    "            shutil.copy(src_path, dst_path)\n",
    "\n",
    "print('非垃圾邮件复制完成。')"
   ]
  },
  {
   "cell_type": "code",
   "execution_count": 3,
   "id": "2e0223f4-3776-49c6-9b2f-546fda484627",
   "metadata": {},
   "outputs": [
    {
     "name": "stdout",
     "output_type": "stream",
     "text": [
      "已复制25220封垃圾邮件到spam/文件夹。\n"
     ]
    }
   ],
   "source": [
    "import shutil\n",
    "import os\n",
    "\n",
    "# 设置索引文件和目标文件夹的路径\n",
    "index_file_path = 'trec07p/full/index'\n",
    "ham_folder = 'ham/'  # 非垃圾邮件的文件夹\n",
    "spam_folder = 'spam/'  # 垃圾邮件的文件夹\n",
    "\n",
    "# 确保目标文件夹存在\n",
    "if not os.path.exists(spam_folder):\n",
    "    os.makedirs(spam_folder)\n",
    "\n",
    "# 计算非垃圾邮件的数量\n",
    "ham_count = 0\n",
    "with open(index_file_path, 'r') as file:\n",
    "    for line in file:\n",
    "        label, _ = line.strip().split(' ')\n",
    "        if label.lower() == 'ham':\n",
    "            ham_count += 1\n",
    "\n",
    "# 复制相同数量的垃圾邮件\n",
    "spam_count = 0\n",
    "with open(index_file_path, 'r') as file:\n",
    "    for line in file:\n",
    "        if spam_count >= ham_count:  # 当达到非垃圾邮件数量时停止\n",
    "            break\n",
    "        label, file_path = line.strip().split(' ')\n",
    "        if label.lower() == 'spam':\n",
    "            file_path = file_path.replace('../', '')  # 删除路径中的'../'\n",
    "            src_path = os.path.join('trec07p', file_path)\n",
    "            dst_path = os.path.join(spam_folder, os.path.basename(file_path))\n",
    "            shutil.copy(src_path, dst_path)\n",
    "            spam_count += 1\n",
    "\n",
    "print(f'已复制{spam_count}封垃圾邮件到{spam_folder}文件夹。')"
   ]
  },
  {
   "cell_type": "code",
   "execution_count": 4,
   "id": "48faa305-8acd-470e-8af8-6b9706854523",
   "metadata": {},
   "outputs": [
    {
     "name": "stdout",
     "output_type": "stream",
     "text": [
      "邮件复制和索引文件创建完成。\n"
     ]
    }
   ],
   "source": [
    "import shutil\n",
    "import os\n",
    "import random\n",
    "\n",
    "# 设置文件夹路径\n",
    "spam_folder = 'spam/'\n",
    "ham_folder = 'ham/'\n",
    "balanced_folder = 'balanced/'\n",
    "\n",
    "# 确保balanced文件夹存在\n",
    "if not os.path.exists(balanced_folder):\n",
    "    os.makedirs(balanced_folder)\n",
    "\n",
    "# 读取spam和ham文件夹中的文件名\n",
    "spam_files = [f for f in os.listdir(spam_folder) if os.path.isfile(os.path.join(spam_folder, f))]\n",
    "ham_files = [f for f in os.listdir(ham_folder) if os.path.isfile(os.path.join(ham_folder, f))]\n",
    "\n",
    "# 合并文件列表并随机打乱\n",
    "all_files = spam_files + ham_files\n",
    "random.shuffle(all_files)\n",
    "\n",
    "# 复制文件到balanced文件夹并记录到索引文件中\n",
    "index_content = []\n",
    "for filename in all_files:\n",
    "    # 检查文件是spam还是ham\n",
    "    label = 'spam' if filename in spam_files else 'ham'\n",
    "    src_path = os.path.join(spam_folder if label == 'spam' else ham_folder, filename)\n",
    "    dst_path = os.path.join(balanced_folder, filename)\n",
    "    shutil.copy(src_path, dst_path)\n",
    "    index_content.append(f'{label} ../data/{filename}')\n",
    "\n",
    "# 将索引内容写入文件\n",
    "with open(os.path.join(balanced_folder, 'index'), 'w') as index_file:\n",
    "    index_file.write('\\n'.join(index_content))\n",
    "\n",
    "print('邮件复制和索引文件创建完成。')"
   ]
  },
  {
   "cell_type": "code",
   "execution_count": null,
   "id": "4129f297-0994-46f4-aa1f-260cc726d03a",
   "metadata": {},
   "outputs": [],
   "source": []
  }
 ],
 "metadata": {
  "kernelspec": {
   "display_name": "py38kernel",
   "language": "python",
   "name": "py38-kernel"
  },
  "language_info": {
   "codemirror_mode": {
    "name": "ipython",
    "version": 3
   },
   "file_extension": ".py",
   "mimetype": "text/x-python",
   "name": "python",
   "nbconvert_exporter": "python",
   "pygments_lexer": "ipython3",
   "version": "3.8.18"
  }
 },
 "nbformat": 4,
 "nbformat_minor": 5
}
