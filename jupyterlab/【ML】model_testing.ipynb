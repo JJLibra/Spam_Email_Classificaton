{
 "cells": [
  {
   "cell_type": "markdown",
   "id": "6da0a7c1-155a-4811-8704-75e3cbb4eacd",
   "metadata": {},
   "source": [
    "### 测试集数据预处理"
   ]
  },
  {
   "cell_type": "markdown",
   "id": "4d4166b3-50fe-410f-a575-fb50062900f4",
   "metadata": {},
   "source": [
    "#### trec07p"
   ]
  },
  {
   "cell_type": "code",
   "execution_count": 1,
   "id": "07c984ce-501a-4dec-8082-d480a51370a7",
   "metadata": {},
   "outputs": [],
   "source": [
    "import os\n",
    "import re\n",
    "from collections import Counter\n",
    "from email import parser, policy\n",
    "from html import unescape\n",
    "\n",
    "import nltk\n",
    "import pandas\n",
    "import urlextract\n",
    "from nltk.corpus import stopwords\n",
    "from sklearn import metrics, preprocessing, naive_bayes\n",
    "from sklearn.feature_extraction.text import CountVectorizer, TfidfVectorizer\n",
    "from sklearn.model_selection import train_test_split\n",
    "\n",
    "from email.parser import BytesParser\n",
    "\n",
    "import joblib\n",
    "# import sys\n",
    "# print(sys.executable)"
   ]
  },
  {
   "cell_type": "code",
   "execution_count": 9,
   "id": "10364db4-6957-42d3-882c-fbf879462fc5",
   "metadata": {},
   "outputs": [],
   "source": [
    "# 读取数据集\n",
    "INDEX_PATH = os.path.join('trec07p', 'full', 'index')  # 先使用较小的数据集进行训练\n",
    "DATA_PATH = os.path.join('trec07p', 'data')  # 数据文件夹路径\n",
    "labels = []\n",
    "filenames = []"
   ]
  },
  {
   "cell_type": "code",
   "execution_count": 10,
   "id": "f432838d-d027-4813-aaa0-dd443733d1c5",
   "metadata": {},
   "outputs": [],
   "source": [
    "# 将delay中的标签和对应的文件名保存\n",
    "def create_dataset(index_path):\n",
    "    with open(index_path) as f:\n",
    "        while True:\n",
    "            line = f.readline()\n",
    "            if not line:\n",
    "                break\n",
    "            line = line.split(' ')\n",
    "            labels.append(line[0])\n",
    "            filenames.append(line[1].strip('\\n').split('/')[-1])\n",
    "            \n",
    "create_dataset(INDEX_PATH)"
   ]
  },
  {
   "cell_type": "code",
   "execution_count": 11,
   "id": "9247fa28-b73b-495a-b66f-4db20b952c47",
   "metadata": {},
   "outputs": [
    {
     "name": "stdout",
     "output_type": "stream",
     "text": [
      "inmail.2\n"
     ]
    }
   ],
   "source": [
    "print(filenames[1])"
   ]
  },
  {
   "cell_type": "code",
   "execution_count": null,
   "id": "bbc5fd65-465d-4041-86f6-aa382c1cfb9a",
   "metadata": {},
   "outputs": [],
   "source": [
    "# 下载delay中索引的文件内容\n",
    "def load_email(filename, file_path):\n",
    "    with open(os.path.join(file_path, filename), 'rb') as f:\n",
    "        return parser.BytesParser(policy=policy.default).parse(f)\n",
    "\n",
    "raw_emails = [load_email(name, DATA_PATH) for name in filenames]"
   ]
  },
  {
   "cell_type": "code",
   "execution_count": 5,
   "id": "db0a7529-ca32-4fef-ad66-b3582bc088f3",
   "metadata": {},
   "outputs": [
    {
     "name": "stdout",
     "output_type": "stream",
     "text": [
      "Hey Billy, \n",
      "\n",
      "it was really fun going out the other night \n",
      "and talking, while we were out you said that you felt\n",
      "insecure about your manhood, I noticed in the toilets\n",
      "you were quite small in that area : ) , but not to \n",
      "worry.. that website that I was telling you about is \n",
      "my secret weapon to an extra 3 inches, trust me.. girls\n",
      "love bigger ones, I've had 5 times as many chicks \n",
      "since I used these pills a year ago. The package I used\n",
      "was the 6 month supply one,  and its worth every \n",
      "cent and more.. the website is http://ctmay.com \n",
      "Ring me on the weekend and we will go out and drink \n",
      "again and let you know some more secrets : ).\n",
      "Later dude, Brad\n"
     ]
    }
   ],
   "source": [
    "print(raw_emails[3].get_content().strip())  # 打印邮件文本内容，注意这里输出内容不一定是正确的，只有当邮件为文本类型，才能输出；不能正确输出说明邮件是多部份的"
   ]
  },
  {
   "cell_type": "code",
   "execution_count": 6,
   "id": "3319975c-c47d-4f1f-b396-6518481e52be",
   "metadata": {},
   "outputs": [],
   "source": [
    "# 数据预处理\n",
    "# 构造函数获取邮件的结构类型及其计数\n",
    "\n",
    "# 确定每封电子邮件的结构类型\n",
    "def get_email_structure(email):\n",
    "    if isinstance(email, str): # 字符串直接返回\n",
    "        return email\n",
    "    payload = email.get_payload() # 提取email的主体部分\n",
    "    if isinstance(payload, list): # 如果是列表，说明该邮件为多部份\n",
    "        return 'multipart({})'.format(', '.join([get_email_structure(sub_email) for sub_email in payload]))\n",
    "        # 如果有两个子部分，一个是 text/plain，另一个是 text/html，那么最终的结果将是 'multipart(text/plain, text/html)'\n",
    "    else: # 否则一般是text/plain或text/html\n",
    "        return email.get_content_type()"
   ]
  },
  {
   "cell_type": "code",
   "execution_count": 7,
   "id": "39bcb24e-db82-4fd7-8ee1-871789c85fbc",
   "metadata": {},
   "outputs": [],
   "source": [
    "# 统计一组电子邮件中各种结构类型的出现次数\n",
    "def structures_counter(emails):\n",
    "    structures = Counter() # 字典类型\n",
    "    for email in emails:\n",
    "        structure = get_email_structure(email)\n",
    "        structures[structure] += 1\n",
    "    return structures"
   ]
  },
  {
   "cell_type": "code",
   "execution_count": 8,
   "id": "273afc1f-8f21-481a-b0b4-4bba67fa1445",
   "metadata": {},
   "outputs": [
    {
     "name": "stdout",
     "output_type": "stream",
     "text": [
      "[('text/plain', 29989), ('multipart(text/plain, text/html)', 17496), ('text/html', 11978), ('multipart(multipart(text/plain, text/html), image/gif)', 5066), ('multipart(text/html)', 3741), ('multipart(multipart(text/plain, text/html), image/jpeg)', 2510), ('multipart(text/html, image/gif)', 1021), ('multipart(text/plain)', 682), ('multipart(text/plain, application/pgp-signature)', 595), ('multipart(text/plain, text/plain)', 398), ('multipart(multipart(text/plain, text/html), image/png)', 240), ('multipart(multipart(text/plain, text/html))', 151), ('multipart(multipart(text/plain, text/html), text/plain)', 135), ('multipart(text/html, text/plain, image/png)', 122), ('multipart(multipart(text/plain, text/html), image/gif, image/gif, image/jpeg, application/octet-stream)', 116), ('multipart(text/plain charset=us-ascii, text/html)', 108), ('multipart(text/plain, application/octet-stream)', 75), ('multipart(multipart(text/plain, text/html), image/gif, image/gif, image/gif, image/gif, application/octet-stream)', 60), ('multipart(text/plain, text/x-patch)', 49), ('multipart(multipart(text/plain, text/html), image/gif, image/gif, image/jpeg, image/jpeg)', 49), ('multipart(text/plain, text/x-diff)', 46), ('multipart(multipart(multipart(text/plain, text/html), image/gif), text/plain)', 45), ('multipart(text/plain, application/pdf)', 44), ('multipart(text/plain, multipart(text/plain, text/plain), multipart(text/html))', 40), ('multipart(text/plain, multipart(text/plain, text/plain), multipart(multipart(multipart(text/plain, text/html), image/gif)))', 38), ('multipart(multipart(text/plain, text/html), image/gif, image/gif, image/gif, image/gif, image/jpeg, image/gif, application/octet-stream, image/gif, image/jpeg, image/gif)', 35), ('multipart(multipart(text/plain, application/pgp-signature), text/plain)', 34), ('multipart(multipart(text/plain, text/html), image/jpg)', 33), ('multipart(text/plain, text/plain, text/plain)', 30), ('multipart(text/plain, text/html, image/gif)', 29), ('multipart(multipart(text/plain, text/html), image/gif, image/gif, image/gif, image/gif)', 27), ('multipart(text/html, image/jpeg)', 23), ('multipart(multipart(text/plain, text/html), image/gif, image/gif, image/gif, image/gif, image/gif, image/gif, image/gif)', 20), ('multipart(multipart(text/html))', 18), ('multipart(multipart(text/plain, text/plain), application/pgp-signature)', 17), ('multipart(multipart(text/plain, text/x-patch), application/pgp-signature)', 16), ('multipart(multipart(text/html), image/gif)', 16), ('multipart(text/plain, application/x-msdownload)', 15), ('multipart(multipart(text/plain, text/html), application/octet-stream)', 13), ('multipart(multipart(text/plain, text/html), image/gif, image/gif, image/jpeg, image/gif)', 12), ('multipart(multipart(text/plain, text/html), image/gif, image/gif)', 12), ('multipart(multipart(multipart(text/plain, text/html), image/jpeg), text/plain)', 11), ('multipart(text/plain, multipart(text/plain, text/plain), text/rfc822-headers)', 10), ('multipart(multipart(text/plain))', 10), ('multipart(multipart(text/plain, application/x-pkcs7-signature), text/plain)', 9), ('multipart(text/plain, multipart(text/html))', 9), ('multipart(text/plain, application/x-pkcs7-signature)', 9), ('multipart(multipart(text/plain, text/x-diff), application/pgp-signature)', 9), ('multipart(text/plain, text/x-patch, application/pgp-signature)', 8), ('multipart(multipart(text/html, image/gif), application/octet-stream)', 8), ('multipart(text/plain, application/octet-stream, application/octet-stream)', 8), ('multipart(multipart(text/plain), text/plain)', 7), ('multipart(multipart(text/plain), application/octet-stream)', 7), ('multipart(text/plain, text/x-patch, text/plain)', 7), ('multipart(text/html, application/octet-stream)', 6), ('multipart(text/html, image/png)', 6), ('multipart(text/plain, text/html, text/plain)', 6), ('multipart(text/plain, text/x-patch, text/x-patch)', 5), ('multipart(text/plain, multipart(text/plain))', 5), ('multipart(text/html, text/html)', 5), ('multipart(text/plain, multipart(text/plain, text/plain), multipart(text/plain))', 5), ('multipart(text/plain, text/plain, text/plain, text/plain)', 4), ('multipart(multipart(text/html), image/jpeg)', 4), ('multipart(text/plain, application/pdf, text/plain)', 4), ('multipart(text/html, image/jpeg, image/jpeg, image/jpeg)', 4), ('multipart(text/plain, multipart(text/html, image/gif))', 4), ('multipart(text/plain, multipart(text/plain), text/plain)', 3), ('multipart(multipart(text/plain, text/html), application/pgp-signature)', 3), ('multipart(text/plain, text/x-patch, application/octet-stream)', 3), ('multipart(multipart(text/plain, multipart(text/html)))', 3), ('multipart(multipart(text/plain, text/html), image/jpeg, image/gif)', 3), ('multipart(text/plain, text/x-diff, text/plain, text/plain)', 3), ('multipart(multipart(text/plain, text/html), image/gif, image/jpeg, image/gif)', 3), ('multipart(text/plain, text/x-log, text/plain)', 2), ('multipart(text/plain, image/png, text/plain)', 2), ('multipart(text/plain, multipart(text/plain), multipart(text/html))', 2), ('multipart(multipart(text/plain, text/html), image/gif, image/gif, image/jpeg)', 2), ('multipart(multipart(text/plain, text/html), image/jpeg, image/jpeg, image/gif)', 2), ('multipart(text/plain, text/x-diff, text/plain)', 2), ('multipart(text/plain, text/plain, application/pgp-signature)', 2), ('multipart(multipart(text/plain, text/html), image/jpeg, image/gif, image/gif, image/jpeg, image/jpeg, image/jpeg, image/jpeg)', 2), ('multipart(multipart(multipart(text/plain, text/x-diff, text/x-diff, text/x-diff), application/pgp-signature), text/plain)', 2), ('multipart(multipart(text/plain, text/html), application/octet-stream, application/octet-stream)', 2), ('multipart(multipart(text/html), text/plain)', 2), ('multipart(text/plain, text/x-log, text/x-log, text/plain)', 2), ('multipart/alternative', 2), ('multipart(text/plain, plain/text)', 1), ('multipart(multipart(text/plain, text/x-patch, text/x-patch), application/pgp-signature)', 1), ('multipart(text/plain, multipart(text/plain, text/plain), multipart(multipart(text/plain, text/html)))', 1), ('multipart(text/html, text/richtext)', 1), ('multipart(text/plain, text/x-diff, text/x-diff)', 1), ('multipart(multipart(text/plain, text/html, image/gif))', 1), ('multipart(multipart(text/plain, application/x-bzip), application/pgp-signature)', 1), ('multipart(multipart(multipart(text/plain)))', 1), ('multipart(text/plain, text/x-patch, text/x-patch, text/x-patch, text/x-patch)', 1), ('multipart(text/plain, text/plain, text/plain, text/plain, text/plain, text/plain, text/plain, text/plain, text/plain, text/plain)', 1), ('multipart(text/plain, application/octet-stream, text/plain)', 1), ('multipart(text/html, multipart(text/html))', 1), ('multipart(text/plain, text/html, application/octet-stream)', 1), ('multipart(text/plain, application/x-gzip, application/pgp-signature)', 1), ('multipart(text/plain, text/x-vcard, text/plain)', 1), ('multipart(multipart(text/plain, text/html), image/gif, image/gif, application/octet-stream)', 1), ('multipart(multipart(text/plain, multipart(text/plain), multipart(text/html)), text/plain)', 1), ('multipart(text/plain, text/x-patch, text/troff)', 1), ('multipart(multipart(multipart(text/plain, text/x-diff, text/x-diff, text/x-diff, text/x-diff), application/pgp-signature), text/plain)', 1), ('multipart(text/plain, application/x-gzip)', 1), ('multipart(text/plain, image/tiff, text/plain)', 1), ('multipart(multipart(text/plain, text/html), application/octet-stream, application/octet-stream, application/octet-stream)', 1), ('multipart(text/plain, text/x-csrc, text/plain)', 1), ('multipart(text/plain, text/x-csrc, text/x-chdr, text/x-patch, application/pgp-signature)', 1), ('multipart(multipart(text/plain, text/html), image/jpeg, image/jpeg, image/jpeg, image/jpeg, image/jpeg, image/jpeg, image/jpeg)', 1), ('multipart(multipart(text/plain, text/x-csrc, application/x-perl, application/octet-stream), application/pgp-signature)', 1), ('multipart(multipart(text/plain, text/x-csrc, application/octet-stream, application/octet-stream), application/pgp-signature)', 1), ('multipart(multipart(text/plain, text/html), image/jpeg, text/plain)', 1), ('multipart(text/plain, image/jpeg, text/plain)', 1), ('multipart(multipart(text/plain, text/x-csrc), application/pgp-signature)', 1), ('multipart(text/plain, application/zip)', 1), ('multipart(text/plain, multipart(text/plain), multipart(text/plain))', 1), ('multipart(multipart(multipart(text/plain, text/plain)), text/plain)', 1), ('multipart(text/plain, application/pdf, text/plain, text/plain)', 1), ('multipart(multipart(text/plain, text/html), image/gif, image/gif, image/gif, image/gif, image/gif, application/octet-stream, image/gif, image/gif, image/jpeg, image/jpeg)', 1), ('multipart(multipart(text/html, image/png, image/png), text/plain)', 1), ('multipart(text/plain, text/x-perl, text/plain)', 1), ('multipart(multipart(multipart(text/plain, text/x-diff, text/x-diff, text/x-diff, text/x-diff, text/x-diff, text/x-diff, text/x-diff, text/x-diff, text/x-diff, text/x-diff, text/x-diff, text/x-diff), application/pgp-signature), text/plain)', 1), ('multipart(multipart(text/plain, text/plain, text/plain), application/pgp-signature)', 1), ('multipart(text/plain, multipart(multipart(text/plain, image/jpeg)))', 1), ('multipart(text/plain, multipart(text/plain, text/plain), multipart(multipart(multipart(text/plain, text/html), image/jpeg)))', 1), ('multipart(multipart(text/plain, text/x-chdr), application/pgp-signature)', 1), ('multipart(multipart(text/plain), image/gif)', 1), ('multipart(text/html, application/octet-stream, application/octet-stream)', 1), ('multipart(text/plain, application/x-perl, text/plain)', 1), ('multipart/alternreturn-path: <accounting@aaawnca.com>', 1), ('multipart(text/plain, text/plain, text/plain, text/plain, text/plain, text/plain, text/plain)', 1), ('multipart(text/plain, multipart(application/applefile, text/plain), text/plain)', 1), ('multipart(multipart(text/plain, text/x-objcsrc, text/plain), application/pgp-signature)', 1), ('multipart(text/html, text/html, text/html, text/html, text/html, text/html, text/html, text/html, text/html, text/html, text/html, text/html, text/html, text/html, text/html, text/html, text/html, text/html, text/html, text/html, text/html, text/html, text/html, text/html, text/html, text/html, text/html, text/html, text/html, text/html, text/html, text/html, text/html, text/html, text/html, text/html, text/html, text/html, text/html, text/html, text/html, text/html, text/html, text/html, text/html, text/html, text/html, text/html, text/html, text/html, text/html, text/html, text/html, text/html, text/html, text/html, text/html, text/html, text/html, text/html, text/html, text/html)', 1), ('multipart(multipart(text/plain, multipart(text/plain, text/plain), multipart(multipart(multipart(text/plain, text/html), image/jpeg))), text/plain)', 1), ('multipart(text/plain, application/x-tar)', 1), ('multipart(multipart(text/plain, text/html), image/gif, image/gif, image/gif)', 1), ('multipart(text/plain, application/octet-stream, application/octet-stream, application/octet-stream, application/octet-stream)', 1), ('multipart(text/plain, text/plain, application/octet-stream)', 1), ('multipart(multipart(multipart(text/plain, text/plain), application/pgp-signature), text/plain)', 1), ('text/', 1), ('multipart(multipart(text/plain, text/html), application/octet-stream, text/plain)', 1)]\n"
     ]
    },
    {
     "data": {
      "text/plain": [
       "'\\n这对于分析电子邮件数据集的结构分布非常有用，可以帮助我们理解数据集中最常见的电子邮件类型，从而为进一步的数据处理和特征工程提供信息。\\n例如，如果多数邮件都是纯文本类型，那么我们可能会专注于文本内容的分析；如果有大量的多部分邮件，我们可能需要考虑如何处理嵌入的图片或附件。\\n'"
      ]
     },
     "execution_count": 8,
     "metadata": {},
     "output_type": "execute_result"
    }
   ],
   "source": [
    "print(structures_counter(raw_emails).most_common())  # 显示邮件包含的类型\n",
    "\"\"\"\n",
    "这对于分析电子邮件数据集的结构分布非常有用，可以帮助我们理解数据集中最常见的电子邮件类型，从而为进一步的数据处理和特征工程提供信息。\n",
    "例如，如果多数邮件都是纯文本类型，那么我们可能会专注于文本内容的分析；如果有大量的多部分邮件，我们可能需要考虑如何处理嵌入的图片或附件。\n",
    "\"\"\""
   ]
  },
  {
   "cell_type": "code",
   "execution_count": 9,
   "id": "2ab30254-677e-4b2d-ad4d-514453ec64fe",
   "metadata": {},
   "outputs": [],
   "source": [
    "# 将原始的电子邮件内容转换为更适合文本分析和机器学习模型训练的格式\n",
    "\n",
    "# 将HTML内容转换为纯文本，同时替换为相应的关键词\n",
    "def html_to_plain_text(html):\n",
    "    text = re.sub('<head.*?>.*?</head>', '', html, flags=re.M | re.S | re.I)\n",
    "    text = re.sub(r'<[aA]\\s.*?>', 'HYPERLINK', text, flags=re.M | re.S | re.I)\n",
    "    text = re.sub(r'<img\\s.*?>', 'IMAGE', text, flags=re.M | re.S | re.I)\n",
    "    text = re.sub('<.*?>', '', text, flags=re.M | re.S)\n",
    "    text = re.sub(r'(\\s*\\n)+', '\\n', text, flags=re.M | re.S)\n",
    "    return unescape(text)"
   ]
  },
  {
   "cell_type": "code",
   "execution_count": 10,
   "id": "3a7a6f90-4ff2-4551-b44d-769433df9024",
   "metadata": {},
   "outputs": [],
   "source": [
    "# 用于从电子邮件中提取文本内容\n",
    "def email_to_text(email):\n",
    "    html = None\n",
    "    # walk()打印出一封具有多部分结构之信息的每个部分的MIME类型\n",
    "    for part in email.walk():\n",
    "        ctype = part.get_content_type()\n",
    "        if ctype not in ('text/plain', 'text/html'):\n",
    "            continue\n",
    "        try:\n",
    "            content = part.get_content()\n",
    "        except LookupError:\n",
    "            content = str(part.get_payload())\n",
    "        if ctype == 'text/plain':\n",
    "            return content\n",
    "        else:\n",
    "            html = content\n",
    "    if html:\n",
    "        return html_to_plain_text(html)"
   ]
  },
  {
   "cell_type": "code",
   "execution_count": 11,
   "id": "7f06a85b-6d7a-4e9b-964f-a6e3088df8ea",
   "metadata": {},
   "outputs": [
    {
     "name": "stderr",
     "output_type": "stream",
     "text": [
      "[nltk_data] Downloading package stopwords to\n",
      "[nltk_data]     C:\\Users\\86180\\AppData\\Roaming\\nltk_data...\n",
      "[nltk_data]   Package stopwords is already up-to-date!\n"
     ]
    },
    {
     "data": {
      "text/plain": [
       "True"
      ]
     },
     "execution_count": 11,
     "metadata": {},
     "output_type": "execute_result"
    }
   ],
   "source": [
    "# 下载 stopwords 资源\n",
    "nltk.download('stopwords')"
   ]
  },
  {
   "cell_type": "code",
   "execution_count": 12,
   "id": "86aa8d7d-01a5-494e-8dc3-9f89e0bd6776",
   "metadata": {},
   "outputs": [],
   "source": [
    "# 分词\n",
    "stopwords_list = stopwords.words('english')  # 英文停用词列表\n",
    "token = nltk.stem.SnowballStemmer('english')  # 提取词干，词干提取器对象，用于将单词还原为基本形式或词干。例如，将“running”还原为“run”。\n",
    "\n",
    "# 将所有小写英文字母添加到停用词列表\n",
    "for single in range(97, 123):\n",
    "    stopwords_list.append(chr(single))\n",
    "    \n",
    "extractor = urlextract.URLExtract() # 创建了一个URL提取器对象，用于从文本中找出URL"
   ]
  },
  {
   "cell_type": "code",
   "execution_count": 13,
   "id": "66259473-6266-4c3a-b2b7-63c2652fd23b",
   "metadata": {},
   "outputs": [],
   "source": [
    "# 将电子邮件文本转换为一个清洗和标准化的单词列表\n",
    "def word_split(email):\n",
    "    text = email_to_text(email) or ' '\n",
    "    text = text.lower()\n",
    "    text = re.sub(r'\\W+', ' ', text, flags=re.M) # 使用正则表达式替换文本中的所有非字母数字字符为单个空格\n",
    "    urls = list(set(extractor.find_urls(text))) # 一个去重的URL列表\n",
    "    urls.sort(key=lambda item: len(item), reverse=True) # 将找到的URL按长度降序排序\n",
    "    for url in urls:\n",
    "        text = text.replace(url, \"URL\") # 将文本中的所有URL替换为特征词“URL”\n",
    "    text = re.sub(r'\\d+(?:\\.\\d*[eE]\\d+)?', 'NUMBER', text) # 使用正则表达式将文本中的所有数字替换为字符串“NUMBER”\n",
    "    content = list(nltk.word_tokenize(text)) # 使用NLTK的 word_tokenize 函数将文本分割成单词列表\n",
    "    all_words = []\n",
    "    for word in content:\n",
    "        if word not in stopwords_list:\n",
    "            word = token.stem(word)\n",
    "            all_words.append(word)\n",
    "    return all_words"
   ]
  },
  {
   "cell_type": "code",
   "execution_count": 14,
   "id": "70ee3ff8-fa1d-4a09-b33c-e88111fda395",
   "metadata": {},
   "outputs": [
    {
     "name": "stderr",
     "output_type": "stream",
     "text": [
      "[nltk_data] Downloading package punkt to\n",
      "[nltk_data]     C:\\Users\\86180\\AppData\\Roaming\\nltk_data...\n",
      "[nltk_data]   Package punkt is already up-to-date!\n"
     ]
    },
    {
     "data": {
      "text/plain": [
       "True"
      ]
     },
     "execution_count": 14,
     "metadata": {},
     "output_type": "execute_result"
    }
   ],
   "source": [
    "# 下载 punkt 资源\n",
    "nltk.download('punkt')"
   ]
  },
  {
   "cell_type": "code",
   "execution_count": 15,
   "id": "deabd5d7-d66e-4014-8f73-1a9126f7f2d3",
   "metadata": {},
   "outputs": [],
   "source": [
    "all_emails = [word_split(data) for data in raw_emails]"
   ]
  },
  {
   "cell_type": "code",
   "execution_count": 16,
   "id": "4c2aa6f8-b472-4a65-8477-bf3ea0946f30",
   "metadata": {},
   "outputs": [
    {
     "name": "stdout",
     "output_type": "stream",
     "text": [
      "['hi', 'updat', 'gulus', 'check', 'mirror', 'seem', 'littl', 'typo', 'debian', 'readm', 'file', 'exampl', 'http', 'gulus', 'usherbrook', 'ca', 'debian', 'readm', 'ftp', 'ftp', 'fr', 'debian', 'org', 'debian', 'readm', 'test', 'lenni', 'access', 'releas', 'dist', 'test', 'current', 'test', 'develop', 'snapshot', 'name', 'etch', 'packag', 'test', 'unstabl', 'pass', 'autom', 'test', 'propog', 'releas', 'etch', 'replac', 'lenni', 'like', 'readm', 'html', 'yan', 'morin', 'consult', 'en', 'logiciel', 'libr', 'yan', 'morin', 'savoirfairelinux', 'com', 'number', 'number', 'number', 'unsubscrib', 'email', 'debian', 'mirror', 'request', 'list', 'debian', 'org', 'subject', 'unsubscrib', 'troubl', 'contact', 'listmast', 'list', 'debian', 'org']\n"
     ]
    }
   ],
   "source": [
    "print(all_emails[1])  # 查看分词结果"
   ]
  },
  {
   "cell_type": "markdown",
   "id": "41475a4b-7a6f-4ac9-bbb8-e27b782ac745",
   "metadata": {},
   "source": [
    "#### 保存处理数据"
   ]
  },
  {
   "cell_type": "code",
   "execution_count": 17,
   "id": "3c05edbf-4581-4c6e-99b2-9a274bee839f",
   "metadata": {},
   "outputs": [],
   "source": [
    "# 保存处理结果，方便后面直接使用\n",
    "import json\n",
    "# 将预处理后的邮件数据保存到JSON文件\n",
    "with open('preprocessed_trec07p_emails.json', 'w', encoding='utf-8') as jsonfile:\n",
    "    json.dump(all_emails, jsonfile, ensure_ascii=False, indent=4)"
   ]
  },
  {
   "cell_type": "markdown",
   "id": "4a1f2165-225a-48ef-961b-4f385374e024",
   "metadata": {},
   "source": [
    "#### trec06p"
   ]
  },
  {
   "cell_type": "code",
   "execution_count": 2,
   "id": "b1ade470-8a91-49a4-ad7c-9519c3ce8fe9",
   "metadata": {},
   "outputs": [],
   "source": [
    "import os\n",
    "from email import policy\n",
    "from email.parser import BytesParser\n",
    "# 定义数据集的路径\n",
    "INDEX_PATH = os.path.join('t6_test25', 'full', 'index')\n",
    "DATA_PATH = os.path.join('t6_test25', 'data')\n",
    "labels = []\n",
    "filepaths = []"
   ]
  },
  {
   "cell_type": "code",
   "execution_count": 3,
   "id": "12945477-bd44-43d1-bcaf-2327dc6b6110",
   "metadata": {},
   "outputs": [],
   "source": [
    "# 从index文件创建数据集索引\n",
    "def create_dataset(index_path):\n",
    "    with open(index_path) as f:\n",
    "        for line in f:\n",
    "            label, relative_path = line.strip().split(' ')\n",
    "            labels.append(label)\n",
    "            # 获取邮件文件的完整路径\n",
    "            filepaths.append(os.path.join(DATA_PATH, *relative_path.split('/')[2:]))\n",
    "\n",
    "create_dataset(INDEX_PATH)"
   ]
  },
  {
   "cell_type": "code",
   "execution_count": 4,
   "id": "8f740a84-e60f-4ff2-8fa6-e80e39c0575b",
   "metadata": {},
   "outputs": [],
   "source": [
    "# 读取邮件内容\n",
    "def load_email(filepath):\n",
    "    with open(filepath, 'rb') as f:\n",
    "        return BytesParser(policy=policy.default).parse(f)\n",
    "\n",
    "# 遍历文件路径列表，加载每封邮件\n",
    "raw_emails = [load_email(filepath) for filepath in filepaths]"
   ]
  },
  {
   "cell_type": "code",
   "execution_count": 5,
   "id": "4dc78d1d-87b0-4e30-b2b3-1f6bdcd481a7",
   "metadata": {},
   "outputs": [
    {
     "name": "stdout",
     "output_type": "stream",
     "text": [
      "Greetings all.  This is to verify your subscription to the plan9-fans\n",
      "list.   The charter members (those who signed up on the first day)\n",
      "are (in order)\n",
      "\n",
      "\t\"Scott Schwartz\" <schwartz@cs.psu.edu>\n",
      "\t\"Chuck Rendleman\" <chuckr@bigbird.llnl.gov>\n",
      "\t\"Michael John Haertel\" <mike@cs.uoregon.edu>\n",
      "\t\"Neil Weisenfeld\" <weisen@alw.nih.gov>\n",
      "\t\"Ozan S. Yigit\" <oz@sis.yorku.ca>\n",
      "\t\"Sanjeev Y. Dharap\" <sanjeev@cs.psu.edu>\n",
      "\tEric Krohn <krohn@bae.bellcore.com>\n",
      "\t\"DaviD W. Sanderson\" <dws@ssec.wisc.edu>\n",
      "\t\"Dennis Colarelli\" <djc@niwot.scd.ucar.EDU>\n",
      "\tTony Sloane <tony@cs.colorado.edu>\n",
      "\tBob Gibson <rjg@sco.COM>\n",
      "\tChris Siebenmann <cks@hawkwind.utcs.toronto.edu>\n",
      "\t\"Roger Peppe\" <rog@ohm.york.ac.uk>\n",
      "\t\"Chet Ramey\" <chet@po.cwru.edu>\n",
      "\t\"Tim Tsai\" <m-it2691@cs.nyu.edu>\n",
      "\tNoel Hunt <noel@es.su.oz.au>\n",
      "\n",
      "Due to rdist and local politics, it takes a day before changes to the\n",
      "list take effect.\n"
     ]
    }
   ],
   "source": [
    "print(raw_emails[3].get_content().strip())  # 打印邮件文本内容，注意这里输出内容不一定是正确的，只有当邮件为文本类型，才能输出；不能正确输出说明邮件是多部份的"
   ]
  },
  {
   "cell_type": "code",
   "execution_count": 6,
   "id": "3b0e3ab1-07a7-4d25-aff5-0eeb327ec18d",
   "metadata": {},
   "outputs": [],
   "source": [
    "# 数据预处理\n",
    "# 构造函数获取邮件的结构类型及其计数\n",
    "\n",
    "# 确定每封电子邮件的结构类型\n",
    "def get_email_structure(email):\n",
    "    if isinstance(email, str): # 字符串直接返回\n",
    "        return email\n",
    "    payload = email.get_payload() # 提取email的主体部分\n",
    "    if isinstance(payload, list): # 如果是列表，说明该邮件为多部份\n",
    "        return 'multipart({})'.format(', '.join([get_email_structure(sub_email) for sub_email in payload]))\n",
    "        # 如果有两个子部分，一个是 text/plain，另一个是 text/html，那么最终的结果将是 'multipart(text/plain, text/html)'\n",
    "    else: # 否则一般是text/plain或text/html\n",
    "        return email.get_content_type()"
   ]
  },
  {
   "cell_type": "code",
   "execution_count": 7,
   "id": "21f1e69e-94f3-4cab-9e96-581ee5112928",
   "metadata": {},
   "outputs": [],
   "source": [
    "# 统计一组电子邮件中各种结构类型的出现次数\n",
    "def structures_counter(emails):\n",
    "    structures = Counter() # 字典类型\n",
    "    for email in emails:\n",
    "        structure = get_email_structure(email)\n",
    "        structures[structure] += 1\n",
    "    return structures"
   ]
  },
  {
   "cell_type": "code",
   "execution_count": 8,
   "id": "e254d509-3e6a-4e62-846e-e3f58b4c0703",
   "metadata": {},
   "outputs": [
    {
     "name": "stdout",
     "output_type": "stream",
     "text": [
      "[('text/plain', 35), ('multipart(text/plain, text/html)', 12), ('multipart(text/plain)', 2), ('multipart(multipart(text/plain, text/html), image/png)', 2), ('multipart/alternative', 1)]\n"
     ]
    },
    {
     "data": {
      "text/plain": [
       "'\\n这对于分析电子邮件数据集的结构分布非常有用，可以帮助我们理解数据集中最常见的电子邮件类型，从而为进一步的数据处理和特征工程提供信息。\\n例如，如果多数邮件都是纯文本类型，那么我们可能会专注于文本内容的分析；如果有大量的多部分邮件，我们可能需要考虑如何处理嵌入的图片或附件。\\n'"
      ]
     },
     "execution_count": 8,
     "metadata": {},
     "output_type": "execute_result"
    }
   ],
   "source": [
    "from collections import Counter\n",
    "print(structures_counter(raw_emails).most_common())  # 显示邮件包含的类型\n",
    "\"\"\"\n",
    "这对于分析电子邮件数据集的结构分布非常有用，可以帮助我们理解数据集中最常见的电子邮件类型，从而为进一步的数据处理和特征工程提供信息。\n",
    "例如，如果多数邮件都是纯文本类型，那么我们可能会专注于文本内容的分析；如果有大量的多部分邮件，我们可能需要考虑如何处理嵌入的图片或附件。\n",
    "\"\"\""
   ]
  },
  {
   "cell_type": "code",
   "execution_count": 9,
   "id": "cc2f94d9-f53e-4be0-8d82-c5ea3b5ef801",
   "metadata": {},
   "outputs": [],
   "source": [
    "# 将原始的电子邮件内容转换为更适合文本分析和机器学习模型训练的格式\n",
    "\n",
    "# 将HTML内容转换为纯文本，同时替换为相应的关键词\n",
    "def html_to_plain_text(html):\n",
    "    text = re.sub('<head.*?>.*?</head>', '', html, flags=re.M | re.S | re.I)\n",
    "    text = re.sub(r'<[aA]\\s.*?>', 'HYPERLINK', text, flags=re.M | re.S | re.I)\n",
    "    text = re.sub(r'<img\\s.*?>', 'IMAGE', text, flags=re.M | re.S | re.I)\n",
    "    text = re.sub('<.*?>', '', text, flags=re.M | re.S)\n",
    "    text = re.sub(r'(\\s*\\n)+', '\\n', text, flags=re.M | re.S)\n",
    "    return unescape(text)"
   ]
  },
  {
   "cell_type": "code",
   "execution_count": 10,
   "id": "801bc499-94f0-4275-b64c-a34bc78a08eb",
   "metadata": {},
   "outputs": [],
   "source": [
    "# 用于从电子邮件中提取文本内容\n",
    "def email_to_text(email):\n",
    "    html = None\n",
    "    # walk()打印出一封具有多部分结构之信息的每个部分的MIME类型\n",
    "    for part in email.walk():\n",
    "        ctype = part.get_content_type()\n",
    "        if ctype not in ('text/plain', 'text/html'):\n",
    "            continue\n",
    "        try:\n",
    "            content = part.get_content()\n",
    "        except LookupError:\n",
    "            content = str(part.get_payload())\n",
    "        if ctype == 'text/plain':\n",
    "            return content\n",
    "        else:\n",
    "            html = content\n",
    "    if html:\n",
    "        return html_to_plain_text(html)"
   ]
  },
  {
   "cell_type": "code",
   "execution_count": 11,
   "id": "fdc8cb2b-102b-427e-b511-56847f206ac5",
   "metadata": {},
   "outputs": [
    {
     "name": "stderr",
     "output_type": "stream",
     "text": [
      "[nltk_data] Downloading package stopwords to\n",
      "[nltk_data]     C:\\Users\\86180\\AppData\\Roaming\\nltk_data...\n",
      "[nltk_data]   Package stopwords is already up-to-date!\n"
     ]
    },
    {
     "data": {
      "text/plain": [
       "True"
      ]
     },
     "execution_count": 11,
     "metadata": {},
     "output_type": "execute_result"
    }
   ],
   "source": [
    "# 下载 stopwords 资源\n",
    "import nltk\n",
    "nltk.download('stopwords')"
   ]
  },
  {
   "cell_type": "code",
   "execution_count": 12,
   "id": "985515a0-8206-40cf-a449-6bf45759dce1",
   "metadata": {},
   "outputs": [],
   "source": [
    "from nltk.corpus import stopwords\n",
    "import urlextract\n",
    "\n",
    "# 分词\n",
    "stopwords_list = stopwords.words('english')  # 英文停用词列表\n",
    "token = nltk.stem.SnowballStemmer('english')  # 提取词干，词干提取器对象，用于将单词还原为基本形式或词干。例如，将“running”还原为“run”。\n",
    "\n",
    "# 将所有小写英文字母添加到停用词列表\n",
    "for single in range(97, 123):\n",
    "    stopwords_list.append(chr(single))\n",
    "    \n",
    "extractor = urlextract.URLExtract() # 创建了一个URL提取器对象，用于从文本中找出URL"
   ]
  },
  {
   "cell_type": "code",
   "execution_count": 13,
   "id": "59a043bc-5e91-4f53-97cf-5954f8838dc5",
   "metadata": {},
   "outputs": [],
   "source": [
    "# 将电子邮件文本转换为一个清洗和标准化的单词列表\n",
    "def word_split(email):\n",
    "    text = email_to_text(email) or ' '\n",
    "    text = text.lower()\n",
    "    text = re.sub(r'\\W+', ' ', text, flags=re.M) # 使用正则表达式替换文本中的所有非字母数字字符为单个空格\n",
    "    urls = list(set(extractor.find_urls(text))) # 一个去重的URL列表\n",
    "    urls.sort(key=lambda item: len(item), reverse=True) # 将找到的URL按长度降序排序\n",
    "    for url in urls:\n",
    "        text = text.replace(url, \"URL\") # 将文本中的所有URL替换为特征词“URL”\n",
    "    text = re.sub(r'\\d+(?:\\.\\d*[eE]\\d+)?', 'NUMBER', text) # 使用正则表达式将文本中的所有数字替换为字符串“NUMBER”\n",
    "    content = list(nltk.word_tokenize(text)) # 使用NLTK的 word_tokenize 函数将文本分割成单词列表\n",
    "    all_words = []\n",
    "    for word in content:\n",
    "        if word not in stopwords_list:\n",
    "            word = token.stem(word)\n",
    "            all_words.append(word)\n",
    "    return all_words"
   ]
  },
  {
   "cell_type": "code",
   "execution_count": 14,
   "id": "fb8c40ac-888a-4751-8e05-0f375c78a2c0",
   "metadata": {},
   "outputs": [
    {
     "name": "stderr",
     "output_type": "stream",
     "text": [
      "[nltk_data] Downloading package punkt to\n",
      "[nltk_data]     C:\\Users\\86180\\AppData\\Roaming\\nltk_data...\n",
      "[nltk_data]   Package punkt is already up-to-date!\n"
     ]
    },
    {
     "data": {
      "text/plain": [
       "True"
      ]
     },
     "execution_count": 14,
     "metadata": {},
     "output_type": "execute_result"
    }
   ],
   "source": [
    "# 下载 punkt 资源\n",
    "nltk.download('punkt')"
   ]
  },
  {
   "cell_type": "code",
   "execution_count": 15,
   "id": "bc458712-50b4-4bd5-bdd7-477cf067cd7d",
   "metadata": {},
   "outputs": [],
   "source": [
    "import re\n",
    "from html import unescape\n",
    "all_emails = [word_split(data) for data in raw_emails]"
   ]
  },
  {
   "cell_type": "code",
   "execution_count": 16,
   "id": "501f9b43-1f44-4331-9158-8b928bae4786",
   "metadata": {},
   "outputs": [
    {
     "name": "stdout",
     "output_type": "stream",
     "text": [
      "['mail', 'list', 'queri', 'week', 'ago', 'run', 'also', 'set', 'archiv', 'server', 'see', 'follow', 'offici', 'welcom', 'list', 'messag', 'moment', 'joe', 'buehler', 'mail', 'list', 'peopl', 'desir', 'serious', 'orthodox', 'discuss', 'roman', 'cathol', 'religion', 'assum', 'cater', 'main', 'cathol', 'everyon', 'els', 'welcom', 'provid', 'oper', 'within', 'guidelin', 'interest', 'doctrin', 'bent', 'certain', 'go', 'limit', 'list', 'sort', 'discuss', 'particip', 'usenet', 'religion', 'group', 'number', 'year', 'one', 'primari', 'observ', 'cathol', 'net', 'know', 'religion', 'well', 'hope', 'list', 'might', 'help', 'remedi', 'problem', 'extent', 'would', 'like', 'make', 'net', 'resourc', 'avail', 'cathol', 'want', 'know', 'religion', 'far', 'moder', 'polici', 'goe', 'cathol', 'church', 'democraci', 'monarchi', 'subject', 'divin', 'given', 'constitut', 'set', 'rule', 'church', 'neither', 'parish', 'priest', 'bishop', 'pope', 'everyon', 'adher', 'way', 'christ', 'set', 'thing', 'think', 'follow', 'realli', 'appropri', 'someon', 'call', 'cathol', 'argu', 'state', 'affair', 'want', 'cathol', 'simpl', 'enough', 'follow', 'teach', 'church', 'moder', 'polici', 'reflect', 'way', 'think', 'plenti', 'place', 'net', 'cathol', 'doctrin', 'freeli', 'attack', 'doubt', 'alway', 'subscrib', 'see', 'whether', 'list', 'tast', 'besid', 'mail', 'list', 'thing', 'may', 'interest', 'set', 'archiv', 'server', 'put', 'interest', 'thing', 'anyth', 'moment', 'except', 'unix', 'softwar', 'use', 'endeavor', 'sorri', 'guy', 'noth', 'copyright', 'goe', 'plan', 'set', 'quotat', 'server', 'email', 'period', 'interest', 'citat', 'princip', 'sourc', 'cathol', 'doctrin', 'done', 'yet', 'obtain', 'permiss', 'english', 'languag', 'publish', 'italian', 'cathol', 'magazin', 'number', 'day', 'take', 'materi', 'magazin', 'intend', 'scan', 'interest', 'pictur', 'ever', 'seen', 'cristero', 'st', 'pius', 'put', 'archiv', 'also', 'post', 'extract', 'interest', 'articl', 'european', 'magazin', 'general', 'higher', 'qualiti', 'american', 'cathol', 'materi', 'opinion', 'question', 'would', 'like', 'subscrib', 'etc', 'send', 'email', 'cathol', 'sarto', 'budd', 'lake', 'nj', 'us']\n"
     ]
    }
   ],
   "source": [
    "print(all_emails[0])"
   ]
  },
  {
   "cell_type": "code",
   "execution_count": 17,
   "id": "7d4a0ca6-cb56-4ac5-ba9f-df09083ad47d",
   "metadata": {},
   "outputs": [],
   "source": [
    "# 保存处理结果，方便后面直接使用\n",
    "import json\n",
    "# 将预处理后的邮件数据保存到JSON文件\n",
    "with open('preprocessed_test25_emails.json', 'w', encoding='utf-8') as jsonfile:\n",
    "    json.dump(all_emails, jsonfile, ensure_ascii=False, indent=4)\n",
    "\n",
    "with open('preprocessed_test25_labels_emails.json', 'w', encoding='utf-8') as jsonfile:\n",
    "    json.dump(labels, jsonfile, ensure_ascii=False, indent=4)"
   ]
  },
  {
   "cell_type": "code",
   "execution_count": 24,
   "id": "b0fe8315-17ec-4d95-862c-8dcc3079234e",
   "metadata": {},
   "outputs": [
    {
     "name": "stderr",
     "output_type": "stream",
     "text": [
      "C:\\ANACONDA\\envs\\py38\\lib\\site-packages\\sklearn\\metrics\\_classification.py:226: FutureWarning: elementwise comparison failed; returning scalar instead, but in the future will perform elementwise comparison\n",
      "  score = y_true == y_pred\n"
     ]
    },
    {
     "name": "stdout",
     "output_type": "stream",
     "text": [
      "Accuracy: 0.0\n"
     ]
    },
    {
     "ename": "ValueError",
     "evalue": "Mix of label input types (string and number)",
     "output_type": "error",
     "traceback": [
      "\u001b[1;31m-------------------------------------------------------------------------\u001b[0m",
      "\u001b[1;31mValueError\u001b[0m                              Traceback (most recent call last)",
      "Cell \u001b[1;32mIn[24], line 29\u001b[0m\n\u001b[0;32m     26\u001b[0m \u001b[38;5;28mprint\u001b[39m(\u001b[38;5;124mf\u001b[39m\u001b[38;5;124m\"\u001b[39m\u001b[38;5;124mAccuracy: \u001b[39m\u001b[38;5;132;01m{\u001b[39;00maccuracy\u001b[38;5;132;01m}\u001b[39;00m\u001b[38;5;124m\"\u001b[39m)\n\u001b[0;32m     28\u001b[0m \u001b[38;5;66;03m# 打印分类报告\u001b[39;00m\n\u001b[1;32m---> 29\u001b[0m \u001b[38;5;28mprint\u001b[39m(\u001b[43mclassification_report\u001b[49m\u001b[43m(\u001b[49m\u001b[43mlabels\u001b[49m\u001b[43m,\u001b[49m\u001b[43m \u001b[49m\u001b[43my_pred\u001b[49m\u001b[43m)\u001b[49m)\n\u001b[0;32m     31\u001b[0m \u001b[38;5;66;03m# 绘制混淆矩阵\u001b[39;00m\n\u001b[0;32m     32\u001b[0m conf_matrix \u001b[38;5;241m=\u001b[39m confusion_matrix(labels, y_pred)\n",
      "File \u001b[1;32mC:\\ANACONDA\\envs\\py38\\lib\\site-packages\\sklearn\\utils\\_param_validation.py:211\u001b[0m, in \u001b[0;36mvalidate_params.<locals>.decorator.<locals>.wrapper\u001b[1;34m(*args, **kwargs)\u001b[0m\n\u001b[0;32m    205\u001b[0m \u001b[38;5;28;01mtry\u001b[39;00m:\n\u001b[0;32m    206\u001b[0m     \u001b[38;5;28;01mwith\u001b[39;00m config_context(\n\u001b[0;32m    207\u001b[0m         skip_parameter_validation\u001b[38;5;241m=\u001b[39m(\n\u001b[0;32m    208\u001b[0m             prefer_skip_nested_validation \u001b[38;5;129;01mor\u001b[39;00m global_skip_validation\n\u001b[0;32m    209\u001b[0m         )\n\u001b[0;32m    210\u001b[0m     ):\n\u001b[1;32m--> 211\u001b[0m         \u001b[38;5;28;01mreturn\u001b[39;00m \u001b[43mfunc\u001b[49m\u001b[43m(\u001b[49m\u001b[38;5;241;43m*\u001b[39;49m\u001b[43margs\u001b[49m\u001b[43m,\u001b[49m\u001b[43m \u001b[49m\u001b[38;5;241;43m*\u001b[39;49m\u001b[38;5;241;43m*\u001b[39;49m\u001b[43mkwargs\u001b[49m\u001b[43m)\u001b[49m\n\u001b[0;32m    212\u001b[0m \u001b[38;5;28;01mexcept\u001b[39;00m InvalidParameterError \u001b[38;5;28;01mas\u001b[39;00m e:\n\u001b[0;32m    213\u001b[0m     \u001b[38;5;66;03m# When the function is just a wrapper around an estimator, we allow\u001b[39;00m\n\u001b[0;32m    214\u001b[0m     \u001b[38;5;66;03m# the function to delegate validation to the estimator, but we replace\u001b[39;00m\n\u001b[0;32m    215\u001b[0m     \u001b[38;5;66;03m# the name of the estimator by the name of the function in the error\u001b[39;00m\n\u001b[0;32m    216\u001b[0m     \u001b[38;5;66;03m# message to avoid confusion.\u001b[39;00m\n\u001b[0;32m    217\u001b[0m     msg \u001b[38;5;241m=\u001b[39m re\u001b[38;5;241m.\u001b[39msub(\n\u001b[0;32m    218\u001b[0m         \u001b[38;5;124mr\u001b[39m\u001b[38;5;124m\"\u001b[39m\u001b[38;5;124mparameter of \u001b[39m\u001b[38;5;124m\\\u001b[39m\u001b[38;5;124mw+ must be\u001b[39m\u001b[38;5;124m\"\u001b[39m,\n\u001b[0;32m    219\u001b[0m         \u001b[38;5;124mf\u001b[39m\u001b[38;5;124m\"\u001b[39m\u001b[38;5;124mparameter of \u001b[39m\u001b[38;5;132;01m{\u001b[39;00mfunc\u001b[38;5;241m.\u001b[39m\u001b[38;5;18m__qualname__\u001b[39m\u001b[38;5;132;01m}\u001b[39;00m\u001b[38;5;124m must be\u001b[39m\u001b[38;5;124m\"\u001b[39m,\n\u001b[0;32m    220\u001b[0m         \u001b[38;5;28mstr\u001b[39m(e),\n\u001b[0;32m    221\u001b[0m     )\n",
      "File \u001b[1;32mC:\\ANACONDA\\envs\\py38\\lib\\site-packages\\sklearn\\metrics\\_classification.py:2542\u001b[0m, in \u001b[0;36mclassification_report\u001b[1;34m(y_true, y_pred, labels, target_names, sample_weight, digits, output_dict, zero_division)\u001b[0m\n\u001b[0;32m   2539\u001b[0m y_type, y_true, y_pred \u001b[38;5;241m=\u001b[39m _check_targets(y_true, y_pred)\n\u001b[0;32m   2541\u001b[0m \u001b[38;5;28;01mif\u001b[39;00m labels \u001b[38;5;129;01mis\u001b[39;00m \u001b[38;5;28;01mNone\u001b[39;00m:\n\u001b[1;32m-> 2542\u001b[0m     labels \u001b[38;5;241m=\u001b[39m \u001b[43munique_labels\u001b[49m\u001b[43m(\u001b[49m\u001b[43my_true\u001b[49m\u001b[43m,\u001b[49m\u001b[43m \u001b[49m\u001b[43my_pred\u001b[49m\u001b[43m)\u001b[49m\n\u001b[0;32m   2543\u001b[0m     labels_given \u001b[38;5;241m=\u001b[39m \u001b[38;5;28;01mFalse\u001b[39;00m\n\u001b[0;32m   2544\u001b[0m \u001b[38;5;28;01melse\u001b[39;00m:\n",
      "File \u001b[1;32mC:\\ANACONDA\\envs\\py38\\lib\\site-packages\\sklearn\\utils\\multiclass.py:114\u001b[0m, in \u001b[0;36munique_labels\u001b[1;34m(*ys)\u001b[0m\n\u001b[0;32m    112\u001b[0m \u001b[38;5;66;03m# Check that we don't mix string type with number type\u001b[39;00m\n\u001b[0;32m    113\u001b[0m \u001b[38;5;28;01mif\u001b[39;00m \u001b[38;5;28mlen\u001b[39m(\u001b[38;5;28mset\u001b[39m(\u001b[38;5;28misinstance\u001b[39m(label, \u001b[38;5;28mstr\u001b[39m) \u001b[38;5;28;01mfor\u001b[39;00m label \u001b[38;5;129;01min\u001b[39;00m ys_labels)) \u001b[38;5;241m>\u001b[39m \u001b[38;5;241m1\u001b[39m:\n\u001b[1;32m--> 114\u001b[0m     \u001b[38;5;28;01mraise\u001b[39;00m \u001b[38;5;167;01mValueError\u001b[39;00m(\u001b[38;5;124m\"\u001b[39m\u001b[38;5;124mMix of label input types (string and number)\u001b[39m\u001b[38;5;124m\"\u001b[39m)\n\u001b[0;32m    116\u001b[0m \u001b[38;5;28;01mreturn\u001b[39;00m xp\u001b[38;5;241m.\u001b[39masarray(\u001b[38;5;28msorted\u001b[39m(ys_labels))\n",
      "\u001b[1;31mValueError\u001b[0m: Mix of label input types (string and number)"
     ]
    }
   ],
   "source": [
    "import json\n",
    "from joblib import load\n",
    "from sklearn.metrics import classification_report, confusion_matrix, accuracy_score\n",
    "import matplotlib.pyplot as plt\n",
    "import seaborn as sns\n",
    "\n",
    "with open('preprocessed_test25_emails.json', 'r', encoding='utf-8') as file:\n",
    "    all_emails = json.load(file)\n",
    "\n",
    "with open('preprocessed_test25_labels_emails.json', 'r', encoding='utf-8') as file:\n",
    "    labels = json.load(file)\n",
    "\n",
    "# 加载模型和向量化器\n",
    "model = load('MulNB_model.pkl')\n",
    "vectorizer = load('MulNB_vectorizer.pkl')\n",
    "\n",
    "# 向量化邮件文本\n",
    "X = vectorizer.transform(all_emails)\n",
    "\n",
    "# 使用模型进行预测\n",
    "y_pred = model.predict(X)\n",
    "\n",
    "# 计算准确率\n",
    "accuracy = accuracy_score(labels, y_pred)\n",
    "print(f\"Accuracy: {accuracy}\")\n",
    "\n",
    "# 打印分类报告\n",
    "print(classification_report(labels, y_pred))\n",
    "\n",
    "# 绘制混淆矩阵\n",
    "conf_matrix = confusion_matrix(labels, y_pred)\n",
    "plt.figure(figsize=(8, 6))\n",
    "sns.heatmap(conf_matrix, annot=True, fmt='d', cmap='Blues')\n",
    "plt.xlabel('Predicted Labels')\n",
    "plt.ylabel('True Labels')\n",
    "plt.title('Confusion Matrix')\n",
    "plt.show()\n"
   ]
  },
  {
   "cell_type": "markdown",
   "id": "5af0d3a6-3d13-416e-8fca-db9b106ae708",
   "metadata": {},
   "source": [
    "### 模型性能分析"
   ]
  },
  {
   "cell_type": "markdown",
   "id": "93efe08c-f977-43d2-9d0d-d6ede2337045",
   "metadata": {},
   "source": [
    "#### 简单占比比对"
   ]
  },
  {
   "cell_type": "code",
   "execution_count": 19,
   "id": "4511800d-fec6-44f0-b825-393a9335cc5a",
   "metadata": {},
   "outputs": [],
   "source": [
    "import os\n",
    "import joblib\n",
    "# 加载模型和向量化器\n",
    "model = joblib.load('MulNB_model.pkl')\n",
    "vectorizer = joblib.load('MulNB_vectorizer.pkl')"
   ]
  },
  {
   "cell_type": "markdown",
   "id": "7d8873ac-78ea-4abd-a080-0476ec94f1ee",
   "metadata": {},
   "source": [
    "##### 无预处理测试集"
   ]
  },
  {
   "cell_type": "code",
   "execution_count": null,
   "id": "0571cb9f-a664-464b-b7d3-efc7c9ca4ba6",
   "metadata": {},
   "outputs": [],
   "source": [
    "# 遍历文件夹中的邮件\n",
    "emails, predictions = [], []\n",
    "for root, dirs, files in os.walk('trec07p/data'):\n",
    "    for file in files:\n",
    "        with open(os.path.join(root, file), 'r', encoding='utf-8', errors='ignore') as f:\n",
    "            email_content = f.read()\n",
    "        emails.append(email_content)"
   ]
  },
  {
   "cell_type": "code",
   "execution_count": 53,
   "id": "b03100dd-fb73-4004-a7aa-9389aba7b0f1",
   "metadata": {},
   "outputs": [
    {
     "name": "stdout",
     "output_type": "stream",
     "text": [
      "垃圾邮件占比: 51.92%\n",
      "非垃圾邮件占比: 48.08%\n"
     ]
    }
   ],
   "source": [
    "# 特征提取\n",
    "email_features = vectorizer.transform(emails)\n",
    "# 模型预测\n",
    "predictions = model.predict(email_features)\n",
    "# 计算垃圾邮件和非垃圾邮件的数量\n",
    "spam_count = sum(predictions)\n",
    "ham_count = len(predictions) - spam_count\n",
    "\n",
    "# 计算占比\n",
    "spam_ratio = spam_count / len(predictions)\n",
    "ham_ratio = ham_count / len(predictions)\n",
    "\n",
    "print(f'垃圾邮件占比: {spam_ratio:.2%}')\n",
    "print(f'非垃圾邮件占比: {ham_ratio:.2%}')"
   ]
  },
  {
   "cell_type": "markdown",
   "id": "c78e03a5-013d-4e06-9cdb-4df2b49c6410",
   "metadata": {},
   "source": [
    "##### 预处理测试集"
   ]
  },
  {
   "cell_type": "code",
   "execution_count": 9,
   "id": "6ec9d2af-aa31-49c0-9e3b-7b9833dccc07",
   "metadata": {},
   "outputs": [],
   "source": [
    "# 特征提取\n",
    "# email_features = vectorizer.transform(emails)\n",
    "# 将每个邮件词汇表转换为字符串\n",
    "import json\n",
    "with open('preprocessed/preprocessed_trec06p_emails.json', 'r', encoding = 'utf-8') as file:\n",
    "    all_emails = json.load(file)\n",
    "all_emails_str = [\" \".join(email) for email in all_emails]"
   ]
  },
  {
   "cell_type": "code",
   "execution_count": 10,
   "id": "2f695772-7d78-4038-b7b8-07aabeaf5db2",
   "metadata": {},
   "outputs": [
    {
     "name": "stdout",
     "output_type": "stream",
     "text": [
      "垃圾邮件占比: 52.46%\n",
      "非垃圾邮件占比: 47.54%\n"
     ]
    }
   ],
   "source": [
    "# 然后使用转换后的字符串列表进行特征提取\n",
    "email_features = vectorizer.transform(all_emails_str)\n",
    "\n",
    "# 模型预测\n",
    "predictions = model.predict(email_features)\n",
    "# 计算垃圾邮件和非垃圾邮件的数量\n",
    "spam_count = sum(predictions)\n",
    "ham_count = len(predictions) - spam_count\n",
    "\n",
    "# 计算占比\n",
    "spam_ratio = spam_count / len(predictions)\n",
    "ham_ratio = ham_count / len(predictions)\n",
    "\n",
    "print(f'垃圾邮件占比: {spam_ratio:.2%}')\n",
    "print(f'非垃圾邮件占比: {ham_ratio:.2%}')"
   ]
  },
  {
   "cell_type": "markdown",
   "id": "3d5dbb9c-934b-4797-b4fc-483e030dd0cd",
   "metadata": {},
   "source": [
    "##### 微调决策阈值"
   ]
  },
  {
   "cell_type": "code",
   "execution_count": null,
   "id": "ee82f1b9-74f7-44b2-89af-1fe9b2eb51f4",
   "metadata": {},
   "outputs": [],
   "source": []
  },
  {
   "cell_type": "code",
   "execution_count": null,
   "id": "fddba367-0401-46c2-9852-61e20ebcc56f",
   "metadata": {},
   "outputs": [],
   "source": []
  },
  {
   "cell_type": "markdown",
   "id": "ddbac9e7-b8a1-46cc-944d-326077a5798f",
   "metadata": {},
   "source": [
    "##### 真实占比"
   ]
  },
  {
   "cell_type": "code",
   "execution_count": 26,
   "id": "d1cb131d-985d-41be-88c4-842dc45ed6b2",
   "metadata": {},
   "outputs": [
    {
     "ename": "FileNotFoundError",
     "evalue": "[Errno 2] No such file or directory: 'trec06p/full/index'",
     "output_type": "error",
     "traceback": [
      "\u001b[1;31m-------------------------------------------------------------------------\u001b[0m",
      "\u001b[1;31mFileNotFoundError\u001b[0m                       Traceback (most recent call last)",
      "Cell \u001b[1;32mIn[26], line 6\u001b[0m\n\u001b[0;32m      3\u001b[0m spam_count \u001b[38;5;241m=\u001b[39m \u001b[38;5;241m0\u001b[39m\n\u001b[0;32m      4\u001b[0m ham_count \u001b[38;5;241m=\u001b[39m \u001b[38;5;241m0\u001b[39m\n\u001b[1;32m----> 6\u001b[0m \u001b[38;5;28;01mwith\u001b[39;00m \u001b[38;5;28;43mopen\u001b[39;49m\u001b[43m(\u001b[49m\u001b[43mindex_path\u001b[49m\u001b[43m,\u001b[49m\u001b[43m \u001b[49m\u001b[38;5;124;43m'\u001b[39;49m\u001b[38;5;124;43mr\u001b[39;49m\u001b[38;5;124;43m'\u001b[39;49m\u001b[43m)\u001b[49m \u001b[38;5;28;01mas\u001b[39;00m file:\n\u001b[0;32m      7\u001b[0m     \u001b[38;5;28;01mfor\u001b[39;00m line \u001b[38;5;129;01min\u001b[39;00m file:\n\u001b[0;32m      8\u001b[0m         \u001b[38;5;28;01mif\u001b[39;00m \u001b[38;5;124m'\u001b[39m\u001b[38;5;124mspam\u001b[39m\u001b[38;5;124m'\u001b[39m \u001b[38;5;129;01min\u001b[39;00m line:\n",
      "File \u001b[1;32mC:\\ANACONDA\\envs\\py38\\lib\\site-packages\\IPython\\core\\interactiveshell.py:284\u001b[0m, in \u001b[0;36m_modified_open\u001b[1;34m(file, *args, **kwargs)\u001b[0m\n\u001b[0;32m    277\u001b[0m \u001b[38;5;28;01mif\u001b[39;00m file \u001b[38;5;129;01min\u001b[39;00m {\u001b[38;5;241m0\u001b[39m, \u001b[38;5;241m1\u001b[39m, \u001b[38;5;241m2\u001b[39m}:\n\u001b[0;32m    278\u001b[0m     \u001b[38;5;28;01mraise\u001b[39;00m \u001b[38;5;167;01mValueError\u001b[39;00m(\n\u001b[0;32m    279\u001b[0m         \u001b[38;5;124mf\u001b[39m\u001b[38;5;124m\"\u001b[39m\u001b[38;5;124mIPython won\u001b[39m\u001b[38;5;124m'\u001b[39m\u001b[38;5;124mt let you open fd=\u001b[39m\u001b[38;5;132;01m{\u001b[39;00mfile\u001b[38;5;132;01m}\u001b[39;00m\u001b[38;5;124m by default \u001b[39m\u001b[38;5;124m\"\u001b[39m\n\u001b[0;32m    280\u001b[0m         \u001b[38;5;124m\"\u001b[39m\u001b[38;5;124mas it is likely to crash IPython. If you know what you are doing, \u001b[39m\u001b[38;5;124m\"\u001b[39m\n\u001b[0;32m    281\u001b[0m         \u001b[38;5;124m\"\u001b[39m\u001b[38;5;124myou can use builtins\u001b[39m\u001b[38;5;124m'\u001b[39m\u001b[38;5;124m open.\u001b[39m\u001b[38;5;124m\"\u001b[39m\n\u001b[0;32m    282\u001b[0m     )\n\u001b[1;32m--> 284\u001b[0m \u001b[38;5;28;01mreturn\u001b[39;00m \u001b[43mio_open\u001b[49m\u001b[43m(\u001b[49m\u001b[43mfile\u001b[49m\u001b[43m,\u001b[49m\u001b[43m \u001b[49m\u001b[38;5;241;43m*\u001b[39;49m\u001b[43margs\u001b[49m\u001b[43m,\u001b[49m\u001b[43m \u001b[49m\u001b[38;5;241;43m*\u001b[39;49m\u001b[38;5;241;43m*\u001b[39;49m\u001b[43mkwargs\u001b[49m\u001b[43m)\u001b[49m\n",
      "\u001b[1;31mFileNotFoundError\u001b[0m: [Errno 2] No such file or directory: 'trec06p/full/index'"
     ]
    }
   ],
   "source": [
    "index_path = 'trec06p/full/index'\n",
    "# 初始化计数器\n",
    "spam_count = 0\n",
    "ham_count = 0\n",
    "\n",
    "with open(index_path, 'r') as file:\n",
    "    for line in file:\n",
    "        if 'spam' in line:\n",
    "            spam_count += 1\n",
    "        elif 'ham' in line:\n",
    "            ham_count += 1\n",
    "\n",
    "# 计算总邮件数量\n",
    "total_emails = spam_count + ham_count\n",
    "\n",
    "# 计算占比\n",
    "spam_percentage = (spam_count / total_emails) * 100\n",
    "ham_percentage = (ham_count / total_emails) * 100\n",
    "\n",
    "# 输出结果\n",
    "print(f\"垃圾邮件占比: {spam_percentage:.2f}%\")\n",
    "print(f\"非垃圾邮件占比: {ham_percentage:.2f}%\")"
   ]
  },
  {
   "cell_type": "markdown",
   "id": "0afe4dee-3ae5-43cf-a5d6-b8cc3be4649a",
   "metadata": {},
   "source": [
    "#### 错误案例分析"
   ]
  },
  {
   "cell_type": "code",
   "execution_count": 81,
   "id": "cf6c0b5e-acd8-4669-8abb-eb19892a422b",
   "metadata": {},
   "outputs": [
    {
     "name": "stdout",
     "output_type": "stream",
     "text": [
      "Total number of errors: 5\n",
      "File: ../data/000/005, Predicted: spam, Actual: ham\n",
      "File: ../data/000/023, Predicted: spam, Actual: ham\n",
      "File: ../data/111/004, Predicted: ham, Actual: spam\n",
      "File: ../data/111/006, Predicted: ham, Actual: spam\n",
      "File: ../data/111/018, Predicted: ham, Actual: spam\n"
     ]
    }
   ],
   "source": [
    "import json\n",
    "import joblib\n",
    "\n",
    "# 加载模型和向量化器\n",
    "model = joblib.load('models/MulNB_model.pkl')\n",
    "vectorizer = joblib.load('vectorizers/MulNB_vectorizer.pkl')  # 确保这里是向量化器的文件\n",
    "\n",
    "# 读取测试集数据\n",
    "with open('preprocessed_test25_emails.json', 'r', encoding='utf-8') as file:\n",
    "    test_data = json.load(file)\n",
    "\n",
    "# 读取索引文件\n",
    "with open('test25/full/index', 'r', encoding='utf-8') as file:\n",
    "    index_data = file.readlines()\n",
    "\n",
    "# 预处理索引文件数据\n",
    "index_data = [line.strip().split() for line in index_data]\n",
    "labels = [1 if line[0] == 'spam' else 0 for line in index_data]  # spam为1，ham为0\n",
    "file_paths = [line[1] for line in index_data]\n",
    "\n",
    "# 将词汇列表转换为字符串\n",
    "test_data_strings = [' '.join(email) for email in test_data]\n",
    "\n",
    "# 使用向量化器转换测试数据\n",
    "test_data_transformed = vectorizer.transform(test_data_strings)\n",
    "\n",
    "# 使用模型进行预测\n",
    "predictions = model.predict(test_data_transformed)\n",
    "\n",
    "# 找出错误的案例\n",
    "errors = []\n",
    "for i, (prediction, label) in enumerate(zip(predictions, labels)):\n",
    "    if prediction != label:\n",
    "        errors.append((file_paths[i], 'spam' if prediction else 'ham', 'spam' if label else 'ham'))\n",
    "\n",
    "# 打印错误案例的数量和一些示例\n",
    "print(f\"Total number of errors: {len(errors)}\")\n",
    "for error in errors[:10]:  # 打印前10个错误案例\n",
    "    print(f\"File: {error[0]}, Predicted: {error[1]}, Actual: {error[2]}\")"
   ]
  },
  {
   "cell_type": "code",
   "execution_count": 69,
   "id": "e79670b7-3662-4219-8e94-10de50bf8288",
   "metadata": {},
   "outputs": [
    {
     "name": "stdout",
     "output_type": "stream",
     "text": [
      "[1]\n"
     ]
    }
   ],
   "source": [
    "# 将词汇列表转换为字符串\n",
    "test_data_strings = [' '.join(test_data[45])]\n",
    "\n",
    "# 使用向量化器转换测试数据\n",
    "test_data_transformed = vectorizer.transform(test_data_strings)\n",
    "\n",
    "# 使用模型进行预测\n",
    "predictions = model.predict(test_data_transformed)\n",
    "print(predictions)"
   ]
  },
  {
   "cell_type": "markdown",
   "id": "ce974923-e8a7-4d10-a7e7-ef5d359a7c14",
   "metadata": {},
   "source": [
    "#### 比较不同模型性能"
   ]
  },
  {
   "cell_type": "code",
   "execution_count": null,
   "id": "eb64e95e-002b-4003-be1b-d19fe108ad09",
   "metadata": {},
   "outputs": [],
   "source": []
  },
  {
   "cell_type": "code",
   "execution_count": null,
   "id": "24546cc5-775f-4736-afdc-de15e77f44df",
   "metadata": {},
   "outputs": [],
   "source": []
  },
  {
   "cell_type": "markdown",
   "id": "e2c33190-56a5-4a8d-b425-13700296a9c8",
   "metadata": {},
   "source": [
    "#### 计算ROC-AUC面积"
   ]
  },
  {
   "cell_type": "code",
   "execution_count": 87,
   "id": "38766a51-39e3-4a76-aa54-882ede678c36",
   "metadata": {},
   "outputs": [],
   "source": [
    "import joblib\n",
    "from sklearn.metrics import roc_curve, auc\n",
    "import matplotlib.pyplot as plt\n",
    "import json\n",
    "# 加载模型和向量化器\n",
    "loaded_model = joblib.load('models/BernliNB_model.pkl')\n",
    "loaded_tfidf_vectorizer = joblib.load('vectorizers/BernliNB_vectorizer.pkl')"
   ]
  },
  {
   "cell_type": "code",
   "execution_count": 88,
   "id": "774a93dc-6cc2-4725-99c0-e7001c95d866",
   "metadata": {},
   "outputs": [],
   "source": [
    "# 加载预处理后的邮件数据和标签\n",
    "with open('preprocessed_test25_emails.json', 'r', encoding='utf-8') as file:\n",
    "    preprocessed_trec07p_emails = json.load(file)\n",
    "# 读取测试集索引文件，获取真实标签\n",
    "labels = []\n",
    "with open('test25/full/index', 'r', encoding='utf-8') as file:\n",
    "    for line in file:\n",
    "        label, _ = line.strip().split()\n",
    "        labels.append(1 if label == 'spam' else 0)"
   ]
  },
  {
   "cell_type": "code",
   "execution_count": 89,
   "id": "fdce74d6-1d62-4e74-9779-f3044945b914",
   "metadata": {},
   "outputs": [],
   "source": [
    "# 使用向量化器转换邮件数据\n",
    "X_test = loaded_tfidf_vectorizer.transform([' '.join(email) for email in preprocessed_trec07p_emails])\n",
    "# 使用模型进行预测\n",
    "y_scores = loaded_model.predict_proba(X_test)[:, 1]\n",
    "# 计算ROC曲线\n",
    "fpr, tpr, thresholds = roc_curve(labels, y_scores)\n",
    "roc_auc = auc(fpr, tpr)"
   ]
  },
  {
   "cell_type": "code",
   "execution_count": 90,
   "id": "98e2c07c-d3d1-46ff-ad61-5fce23f442bd",
   "metadata": {},
   "outputs": [
    {
     "data": {
      "image/png": "[encoded data removed]",
      "text/plain": [
       "<Figure size 640x480 with 1 Axes>"
      ]
     },
     "metadata": {},
     "output_type": "display_data"
    }
   ],
   "source": [
    "# 绘制ROC曲线\n",
    "plt.figure()\n",
    "plt.plot(fpr, tpr, color='darkorange', lw=2, label='ROC curve (area = %0.2f)' % roc_auc)\n",
    "plt.plot([0, 1], [0, 1], color='navy', lw=2, linestyle='--')\n",
    "plt.xlim([0.0, 1.0])\n",
    "plt.ylim([0.0, 1.05])\n",
    "plt.xlabel('False Positive Rate')\n",
    "plt.ylabel('True Positive Rate')\n",
    "plt.title('Receiver Operating Characteristic')\n",
    "plt.legend(loc=\"lower right\")\n",
    "plt.show()"
   ]
  },
  {
   "cell_type": "code",
   "execution_count": 65,
   "id": "7c58a9fc-9c68-4eb3-862d-9cf3a464c939",
   "metadata": {},
   "outputs": [
    {
     "name": "stdout",
     "output_type": "stream",
     "text": [
      "AUC面积: 0.97\n"
     ]
    }
   ],
   "source": [
    "print('AUC面积: %0.2f' % roc_auc)"
   ]
  },
  {
   "cell_type": "code",
   "execution_count": null,
   "id": "fbe554fe-5970-4446-8e4f-2215e49617a8",
   "metadata": {},
   "outputs": [],
   "source": []
  }
 ],
 "metadata": {
  "kernelspec": {
   "display_name": "py38kernel",
   "language": "python",
   "name": "py38-kernel"
  },
  "language_info": {
   "codemirror_mode": {
    "name": "ipython",
    "version": 3
   },
   "file_extension": ".py",
   "mimetype": "text/x-python",
   "name": "python",
   "nbconvert_exporter": "python",
   "pygments_lexer": "ipython3",
   "version": "3.8.18"
  }
 },
 "nbformat": 4,
 "nbformat_minor": 5
}
