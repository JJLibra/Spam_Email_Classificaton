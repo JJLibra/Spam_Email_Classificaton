{
 "cells": [
  {
   "cell_type": "markdown",
   "id": "5af0d3a6-3d13-416e-8fca-db9b106ae708",
   "metadata": {},
   "source": [
    "### 模型测试"
   ]
  },
  {
   "cell_type": "code",
   "execution_count": 1,
   "id": "4511800d-fec6-44f0-b825-393a9335cc5a",
   "metadata": {},
   "outputs": [],
   "source": [
    "import os\n",
    "import joblib\n",
    "# 加载模型和向量化器\n",
    "model = joblib.load('rf_model.pkl')\n",
    "vectorizer = joblib.load('tfidf_vectorizer.pkl')"
   ]
  },
  {
   "cell_type": "code",
   "execution_count": 2,
   "id": "3fee881b-978f-4068-90ad-701ee34d9d7f",
   "metadata": {},
   "outputs": [],
   "source": [
    "# 遍历文件夹中的邮件\n",
    "emails, predictions = [], []\n",
    "for root, dirs, files in os.walk('trec07p/data'):\n",
    "    for file in files:\n",
    "        # if file.endswith('.eml'):\n",
    "        with open(os.path.join(root, file), 'r', encoding='utf-8', errors='ignore') as f:\n",
    "            email_content = f.read()\n",
    "        emails.append(email_content)"
   ]
  },
  {
   "cell_type": "code",
   "execution_count": 3,
   "id": "1b133603-7da9-462e-a9a4-bf32edda4975",
   "metadata": {},
   "outputs": [],
   "source": [
    "# 特征提取\n",
    "email_features = vectorizer.transform(emails)\n",
    "# 模型预测\n",
    "predictions = model.predict(email_features)"
   ]
  },
  {
   "cell_type": "code",
   "execution_count": 5,
   "id": "2f695772-7d78-4038-b7b8-07aabeaf5db2",
   "metadata": {},
   "outputs": [
    {
     "name": "stdout",
     "output_type": "stream",
     "text": [
      "垃圾邮件占比: 71.10%\n",
      "非垃圾邮件占比: 28.90%\n"
     ]
    }
   ],
   "source": [
    "# 计算垃圾邮件和非垃圾邮件的数量\n",
    "spam_count = sum(predictions)\n",
    "ham_count = len(predictions) - spam_count\n",
    "\n",
    "# 计算占比\n",
    "spam_ratio = spam_count / len(predictions)\n",
    "ham_ratio = ham_count / len(predictions)\n",
    "\n",
    "print(f'垃圾邮件占比: {spam_ratio:.2%}')\n",
    "print(f'非垃圾邮件占比: {ham_ratio:.2%}')"
   ]
  }
 ],
 "metadata": {
  "kernelspec": {
   "display_name": "py38kernel",
   "language": "python",
   "name": "py38-kernel"
  },
  "language_info": {
   "codemirror_mode": {
    "name": "ipython",
    "version": 3
   },
   "file_extension": ".py",
   "mimetype": "text/x-python",
   "name": "python",
   "nbconvert_exporter": "python",
   "pygments_lexer": "ipython3",
   "version": "3.8.18"
  }
 },
 "nbformat": 4,
 "nbformat_minor": 5
}
